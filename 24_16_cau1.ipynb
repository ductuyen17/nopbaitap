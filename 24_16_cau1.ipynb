{
 "cells": [
  {
   "cell_type": "code",
   "execution_count": 2,
   "metadata": {},
   "outputs": [
    {
     "name": "stderr",
     "output_type": "stream",
     "text": [
      "C:\\Users\\ADMIN\\AppData\\Local\\Temp\\ipykernel_14656\\2127981633.py:17: MarkupResemblesLocatorWarning: The input looks more like a filename than markup. You may want to open this file and pass the filehandle into Beautiful Soup.\n",
      "  soup = BeautifulSoup(text, 'html.parser')#remove URL\n"
     ]
    }
   ],
   "source": [
    "import nltk\n",
    "import re\n",
    "import os\n",
    "import emoji\n",
    "from bs4 import BeautifulSoup\n",
    "from nltk.probability import FreqDist\n",
    "from nltk.corpus import stopwords\n",
    "src='C:/Users/ADMIN/Documents/data6'\n",
    "path=os.listdir(src)\n",
    "for i in path:\n",
    "    label=i.split(\"'\")[0]\n",
    "    f=open('C:/Users/ADMIN/Documents/data6/'+str(label), \"r\", encoding=\"utf-8\")\n",
    "    text=f.read()\n",
    "#################################\n",
    "######## Text Processing ########\n",
    "#################################\n",
    "    soup = BeautifulSoup(text, 'html.parser')#remove URL\n",
    "    text_pre = soup.get_text()\n",
    "    text_pre=text_pre.replace(\"\\n\",\"\")  # Remove the newline command\n",
    "    text_pre=text_pre.lower() # Convert text to lowercase\n",
    "    text_pre = emoji.demojize(text_pre)# emoji\n",
    "    text_pre=re.sub(r'[^\\w\\s]','',text_pre) # Remove punctuation\n",
    "    text_pre = re.sub(\"\\d+\", \" \", text_pre) # Remove number\n",
    "    text_pre = re.sub(r\"[!@#$[]()]'\", \"\", text_pre) # Remove character: !@#$[]()\n",
    "    stop = stopwords.words('english')   # Remove StopWords\n",
    "    text_pre = \" \".join(text_pre for text_pre in text_pre.split() if text_pre not in stop)\n",
    "    text_pre=nltk.word_tokenize(text_pre) # Tokenizing\n",
    "    filename=os.path.join(\"D:/khai pha web/Data_Preprocessing\", str(label))    \n",
    "    with open(filename, 'w',encoding='utf-8') as f:\n",
    "        f.write(str(text_pre))"
   ]
  }
 ],
 "metadata": {
  "kernelspec": {
   "display_name": "Python 3",
   "language": "python",
   "name": "python3"
  },
  "language_info": {
   "codemirror_mode": {
    "name": "ipython",
    "version": 3
   },
   "file_extension": ".py",
   "mimetype": "text/x-python",
   "name": "python",
   "nbconvert_exporter": "python",
   "pygments_lexer": "ipython3",
   "version": "3.11.6"
  }
 },
 "nbformat": 4,
 "nbformat_minor": 2
}
